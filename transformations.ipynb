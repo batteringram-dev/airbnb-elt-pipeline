{
 "cells": [
  {
   "cell_type": "code",
   "execution_count": null,
   "metadata": {
    "application/vnd.databricks.v1+cell": {
     "cellMetadata": {
      "byteLimit": 2048000,
      "rowLimit": 10000
     },
     "inputWidgets": {},
     "nuid": "92b29e7c-9dcc-4b6c-befa-70a545533f50",
     "showTitle": true,
     "title": "Check SparkSession"
    }
   },
   "outputs": [
    {
     "data": {
      "text/html": [
       "\n",
       "            <div>\n",
       "                <p><b>SparkSession - hive</b></p>\n",
       "                \n",
       "        <div>\n",
       "            <p><b>SparkContext</b></p>\n",
       "\n",
       "            <p><a href=\"/?o=3287916876013965#setting/sparkui/0806-111351-gazndcho/driver-409358033598781241\">Spark UI</a></p>\n",
       "\n",
       "            <dl>\n",
       "              <dt>Version</dt>\n",
       "                <dd><code>v3.3.2</code></dd>\n",
       "              <dt>Master</dt>\n",
       "                <dd><code>local[8]</code></dd>\n",
       "              <dt>AppName</dt>\n",
       "                <dd><code>Databricks Shell</code></dd>\n",
       "            </dl>\n",
       "        </div>\n",
       "        \n",
       "            </div>\n",
       "        "
      ]
     },
     "metadata": {
      "application/vnd.databricks.v1+output": {
       "addedWidgets": {},
       "arguments": {},
       "data": "\n            <div>\n                <p><b>SparkSession - hive</b></p>\n                \n        <div>\n            <p><b>SparkContext</b></p>\n\n            <p><a href=\"/?o=3287916876013965#setting/sparkui/0806-111351-gazndcho/driver-409358033598781241\">Spark UI</a></p>\n\n            <dl>\n              <dt>Version</dt>\n                <dd><code>v3.3.2</code></dd>\n              <dt>Master</dt>\n                <dd><code>local[8]</code></dd>\n              <dt>AppName</dt>\n                <dd><code>Databricks Shell</code></dd>\n            </dl>\n        </div>\n        \n            </div>\n        ",
       "datasetInfos": [],
       "metadata": {},
       "removedWidgets": [],
       "textData": null,
       "type": "htmlSandbox"
      }
     },
     "output_type": "display_data"
    }
   ],
   "source": [
    "from pyspark.sql import Window\n",
    "from pyspark.sql.functions import *\n",
    "from pyspark.sql.types import StructType, StructField, StringType, IntegerType, FloatType, DateType, LongType, DecimalType\n",
    "\n",
    "spark # Printing Spark Session's details"
   ]
  },
  {
   "cell_type": "code",
   "execution_count": null,
   "metadata": {
    "application/vnd.databricks.v1+cell": {
     "cellMetadata": {
      "byteLimit": 2048000,
      "rowLimit": 10000
     },
     "inputWidgets": {},
     "nuid": "3ca7d628-2239-4b12-b010-fa00cf55a316",
     "showTitle": true,
     "title": "Read Data from Snowflake"
    }
   },
   "outputs": [],
   "source": [
    "# Read data from Snowflake table into dataframe\n",
    "\n",
    "listings_df = (spark.read\n",
    "  .format(\"snowflake\")\n",
    "  .option(\"sfURL\", \"****************************\")\n",
    "  .option(\"user\", \"*********************\")\n",
    "  .option(\"password\", \"****************\")\n",
    "  .option(\"database\", \"AirbnbData\")\n",
    "  .option(\"schema\", \"listings\")\n",
    "  .option(\"dbtable\", \"listings\")\n",
    "  .load()\n",
    ")"
   ]
  },
  {
   "cell_type": "code",
   "execution_count": null,
   "metadata": {
    "application/vnd.databricks.v1+cell": {
     "cellMetadata": {
      "byteLimit": 2048000,
      "rowLimit": 10000
     },
     "inputWidgets": {},
     "nuid": "3b0ee65a-e3c6-49cf-b3d2-d9275cb48bc1",
     "showTitle": false,
     "title": ""
    }
   },
   "outputs": [
    {
     "name": "stdout",
     "output_type": "stream",
     "text": [
      "root\n",
      " |-- ID: decimal(38,0) (nullable = true)\n",
      " |-- NAME: string (nullable = true)\n",
      " |-- HOST_ID: decimal(38,0) (nullable = true)\n",
      " |-- HOST_NAME: string (nullable = true)\n",
      " |-- NEIGHBOURHOOD_GROUP: double (nullable = true)\n",
      " |-- NEIGHBOURHOOD: string (nullable = true)\n",
      " |-- LATITUDE: double (nullable = true)\n",
      " |-- LONGITUDE: double (nullable = true)\n",
      " |-- ROOM_TYPE: string (nullable = true)\n",
      " |-- PRICE: decimal(38,0) (nullable = true)\n",
      " |-- MINIMUM_NIGHTS: decimal(38,0) (nullable = true)\n",
      " |-- NUMBER_OF_REVIEWS: decimal(38,0) (nullable = true)\n",
      " |-- LAST_REVIEW: string (nullable = true)\n",
      " |-- REVIEWS_PER_MONTH: double (nullable = true)\n",
      " |-- CALCULATED_HOST_LISTINGS_COUNT: decimal(38,0) (nullable = true)\n",
      " |-- AVAILABILITY_365: decimal(38,0) (nullable = true)\n",
      " |-- NUMBER_OF_REVIEWS_LTM: decimal(38,0) (nullable = true)\n",
      " |-- LICENSE: double (nullable = true)\n",
      "\n"
     ]
    }
   ],
   "source": [
    "listings_df.printSchema() # Schema check"
   ]
  },
  {
   "cell_type": "code",
   "execution_count": null,
   "metadata": {
    "application/vnd.databricks.v1+cell": {
     "cellMetadata": {
      "byteLimit": 2048000,
      "rowLimit": 10000
     },
     "inputWidgets": {},
     "nuid": "c882aa2a-5714-4015-9ce7-ae1b675a15a3",
     "showTitle": true,
     "title": "Studying our data"
    }
   },
   "outputs": [
    {
     "data": {
      "text/html": [
       "<style scoped>\n",
       "  .table-result-container {\n",
       "    max-height: 300px;\n",
       "    overflow: auto;\n",
       "  }\n",
       "  table, th, td {\n",
       "    border: 1px solid black;\n",
       "    border-collapse: collapse;\n",
       "  }\n",
       "  th, td {\n",
       "    padding: 5px;\n",
       "  }\n",
       "  th {\n",
       "    text-align: left;\n",
       "  }\n",
       "</style><div class='table-result-container'><table class='table-result'><thead style='background-color: white'><tr><th>ID</th><th>NAME</th><th>HOST_ID</th><th>HOST_NAME</th><th>NEIGHBOURHOOD_GROUP</th><th>NEIGHBOURHOOD</th><th>LATITUDE</th><th>LONGITUDE</th><th>ROOM_TYPE</th><th>PRICE</th><th>MINIMUM_NIGHTS</th><th>NUMBER_OF_REVIEWS</th><th>LAST_REVIEW</th><th>REVIEWS_PER_MONTH</th><th>CALCULATED_HOST_LISTINGS_COUNT</th><th>AVAILABILITY_365</th><th>NUMBER_OF_REVIEWS_LTM</th><th>LICENSE</th></tr></thead><tbody><tr><td>106332</td><td>Lovely large room, Bethnal Green</td><td>264345</td><td>Susie</td><td>null</td><td>Tower Hamlets</td><td>51.52874</td><td>-0.05396</td><td>Private room</td><td>55</td><td>3</td><td>65</td><td>2016-06-10</td><td>0.47</td><td>1</td><td>74</td><td>0</td><td>null</td></tr><tr><td>13913</td><td>Holiday London DB Room Let-on going</td><td>54730</td><td>Alina</td><td>null</td><td>Islington</td><td>51.56861</td><td>-0.1127</td><td>Private room</td><td>50</td><td>1</td><td>30</td><td>2022-07-15</td><td>0.2</td><td>2</td><td>343</td><td>9</td><td>null</td></tr><tr><td>284532</td><td>COSY STUDIO-FLAT WITH A GREAT  VIEW</td><td>1481412</td><td>Luca</td><td>null</td><td>Tower Hamlets</td><td>51.52851</td><td>-0.07426</td><td>Entire home/apt</td><td>90</td><td>5</td><td>42</td><td>2022-01-04</td><td>0.34</td><td>1</td><td>222</td><td>1</td><td>null</td></tr><tr><td>107048</td><td>A Luxury Studio Suite in Clerkenwell</td><td>259088</td><td>Simon</td><td>null</td><td>Islington</td><td>51.52478</td><td>-0.10484</td><td>Private room</td><td>180</td><td>4</td><td>493</td><td>2022-09-02</td><td>3.59</td><td>5</td><td>236</td><td>20</td><td>null</td></tr><tr><td>284603</td><td>Notting Hill church stay in Heaven!</td><td>1481851</td><td>Tania</td><td>null</td><td>Kensington and Chelsea</td><td>51.51464</td><td>-0.20004</td><td>Entire home/apt</td><td>297</td><td>14</td><td>6</td><td>2022-07-04</td><td>0.05</td><td>1</td><td>180</td><td>2</td><td>null</td></tr><tr><td>15400</td><td>Bright Chelsea  Apartment. Chelsea!</td><td>60302</td><td>Philippa</td><td>null</td><td>Kensington and Chelsea</td><td>51.4878</td><td>-0.16813</td><td>Entire home/apt</td><td>75</td><td>3</td><td>89</td><td>2020-03-16</td><td>0.57</td><td>1</td><td>70</td><td>0</td><td>null</td></tr><tr><td>107051</td><td>JESSIE the narrowboat in Little Venice</td><td>554519</td><td>Meg</td><td>null</td><td>Westminster</td><td>51.52055</td><td>-0.18317</td><td>Entire home/apt</td><td>204</td><td>2</td><td>581</td><td>2022-09-02</td><td>4.26</td><td>1</td><td>193</td><td>66</td><td>null</td></tr><tr><td>17402</td><td>Superb 3-Bed/2 Bath & Wifi: Trendy W1</td><td>67564</td><td>Liz</td><td>null</td><td>Westminster</td><td>51.52195</td><td>-0.14094</td><td>Entire home/apt</td><td>379</td><td>4</td><td>51</td><td>2022-09-06</td><td>0.36</td><td>5</td><td>249</td><td>8</td><td>null</td></tr><tr><td>286675</td><td>APARTMENT IN NORTH WEST LONDON</td><td>1491611</td><td>Nora</td><td>null</td><td>Harrow</td><td>51.57982</td><td>-0.37539</td><td>Entire home/apt</td><td>90</td><td>3</td><td>104</td><td>2022-08-22</td><td>0.86</td><td>1</td><td>318</td><td>4</td><td>null</td></tr><tr><td>116268</td><td>DOUBLE ROOM NEAR CENTRAL LONDON</td><td>586671</td><td>Joe</td><td>null</td><td>Enfield</td><td>51.61137</td><td>-0.11888</td><td>Private room</td><td>30</td><td>7</td><td>32</td><td>2022-09-08</td><td>0.29</td><td>1</td><td>251</td><td>4</td><td>null</td></tr></tbody></table></div>"
      ]
     },
     "metadata": {
      "application/vnd.databricks.v1+output": {
       "addedWidgets": {},
       "aggData": [],
       "aggError": "",
       "aggOverflow": false,
       "aggSchema": [],
       "aggSeriesLimitReached": false,
       "aggType": "",
       "arguments": {},
       "columnCustomDisplayInfos": {},
       "data": [
        [
         "106332",
         "Lovely large room, Bethnal Green",
         "264345",
         "Susie",
         null,
         "Tower Hamlets",
         51.52874,
         -0.05396,
         "Private room",
         "55",
         "3",
         "65",
         "2016-06-10",
         0.47,
         "1",
         "74",
         "0",
         null
        ],
        [
         "13913",
         "Holiday London DB Room Let-on going",
         "54730",
         "Alina",
         null,
         "Islington",
         51.56861,
         -0.1127,
         "Private room",
         "50",
         "1",
         "30",
         "2022-07-15",
         0.2,
         "2",
         "343",
         "9",
         null
        ],
        [
         "284532",
         "COSY STUDIO-FLAT WITH A GREAT  VIEW",
         "1481412",
         "Luca",
         null,
         "Tower Hamlets",
         51.52851,
         -0.07426,
         "Entire home/apt",
         "90",
         "5",
         "42",
         "2022-01-04",
         0.34,
         "1",
         "222",
         "1",
         null
        ],
        [
         "107048",
         "A Luxury Studio Suite in Clerkenwell",
         "259088",
         "Simon",
         null,
         "Islington",
         51.52478,
         -0.10484,
         "Private room",
         "180",
         "4",
         "493",
         "2022-09-02",
         3.59,
         "5",
         "236",
         "20",
         null
        ],
        [
         "284603",
         "Notting Hill church stay in Heaven!",
         "1481851",
         "Tania",
         null,
         "Kensington and Chelsea",
         51.51464,
         -0.20004,
         "Entire home/apt",
         "297",
         "14",
         "6",
         "2022-07-04",
         0.05,
         "1",
         "180",
         "2",
         null
        ],
        [
         "15400",
         "Bright Chelsea  Apartment. Chelsea!",
         "60302",
         "Philippa",
         null,
         "Kensington and Chelsea",
         51.4878,
         -0.16813,
         "Entire home/apt",
         "75",
         "3",
         "89",
         "2020-03-16",
         0.57,
         "1",
         "70",
         "0",
         null
        ],
        [
         "107051",
         "JESSIE the narrowboat in Little Venice",
         "554519",
         "Meg",
         null,
         "Westminster",
         51.52055,
         -0.18317,
         "Entire home/apt",
         "204",
         "2",
         "581",
         "2022-09-02",
         4.26,
         "1",
         "193",
         "66",
         null
        ],
        [
         "17402",
         "Superb 3-Bed/2 Bath & Wifi: Trendy W1",
         "67564",
         "Liz",
         null,
         "Westminster",
         51.52195,
         -0.14094,
         "Entire home/apt",
         "379",
         "4",
         "51",
         "2022-09-06",
         0.36,
         "5",
         "249",
         "8",
         null
        ],
        [
         "286675",
         "APARTMENT IN NORTH WEST LONDON",
         "1491611",
         "Nora",
         null,
         "Harrow",
         51.57982,
         -0.37539,
         "Entire home/apt",
         "90",
         "3",
         "104",
         "2022-08-22",
         0.86,
         "1",
         "318",
         "4",
         null
        ],
        [
         "116268",
         "DOUBLE ROOM NEAR CENTRAL LONDON",
         "586671",
         "Joe",
         null,
         "Enfield",
         51.61137,
         -0.11888,
         "Private room",
         "30",
         "7",
         "32",
         "2022-09-08",
         0.29,
         "1",
         "251",
         "4",
         null
        ]
       ],
       "datasetInfos": [],
       "dbfsResultPath": null,
       "isJsonSchema": true,
       "metadata": {},
       "overflow": false,
       "plotOptions": {
        "customPlotOptions": {},
        "displayType": "table",
        "pivotAggregation": null,
        "pivotColumns": null,
        "xColumns": null,
        "yColumns": null
       },
       "removedWidgets": [],
       "schema": [
        {
         "metadata": "{}",
         "name": "ID",
         "type": "\"decimal(38,0)\""
        },
        {
         "metadata": "{}",
         "name": "NAME",
         "type": "\"string\""
        },
        {
         "metadata": "{}",
         "name": "HOST_ID",
         "type": "\"decimal(38,0)\""
        },
        {
         "metadata": "{}",
         "name": "HOST_NAME",
         "type": "\"string\""
        },
        {
         "metadata": "{}",
         "name": "NEIGHBOURHOOD_GROUP",
         "type": "\"double\""
        },
        {
         "metadata": "{}",
         "name": "NEIGHBOURHOOD",
         "type": "\"string\""
        },
        {
         "metadata": "{}",
         "name": "LATITUDE",
         "type": "\"double\""
        },
        {
         "metadata": "{}",
         "name": "LONGITUDE",
         "type": "\"double\""
        },
        {
         "metadata": "{}",
         "name": "ROOM_TYPE",
         "type": "\"string\""
        },
        {
         "metadata": "{}",
         "name": "PRICE",
         "type": "\"decimal(38,0)\""
        },
        {
         "metadata": "{}",
         "name": "MINIMUM_NIGHTS",
         "type": "\"decimal(38,0)\""
        },
        {
         "metadata": "{}",
         "name": "NUMBER_OF_REVIEWS",
         "type": "\"decimal(38,0)\""
        },
        {
         "metadata": "{}",
         "name": "LAST_REVIEW",
         "type": "\"string\""
        },
        {
         "metadata": "{}",
         "name": "REVIEWS_PER_MONTH",
         "type": "\"double\""
        },
        {
         "metadata": "{}",
         "name": "CALCULATED_HOST_LISTINGS_COUNT",
         "type": "\"decimal(38,0)\""
        },
        {
         "metadata": "{}",
         "name": "AVAILABILITY_365",
         "type": "\"decimal(38,0)\""
        },
        {
         "metadata": "{}",
         "name": "NUMBER_OF_REVIEWS_LTM",
         "type": "\"decimal(38,0)\""
        },
        {
         "metadata": "{}",
         "name": "LICENSE",
         "type": "\"double\""
        }
       ],
       "type": "table"
      }
     },
     "output_type": "display_data"
    }
   ],
   "source": [
    "display(listings_df.limit(10)) # Displaying top 10 rows"
   ]
  },
  {
   "cell_type": "code",
   "execution_count": null,
   "metadata": {
    "application/vnd.databricks.v1+cell": {
     "cellMetadata": {
      "byteLimit": 2048000,
      "rowLimit": 10000
     },
     "inputWidgets": {},
     "nuid": "9e915182-5419-4d13-aaad-f06fd93044e5",
     "showTitle": true,
     "title": "Data Cleaning"
    }
   },
   "outputs": [
    {
     "data": {
      "text/html": [
       "<style scoped>\n",
       "  .table-result-container {\n",
       "    max-height: 300px;\n",
       "    overflow: auto;\n",
       "  }\n",
       "  table, th, td {\n",
       "    border: 1px solid black;\n",
       "    border-collapse: collapse;\n",
       "  }\n",
       "  th, td {\n",
       "    padding: 5px;\n",
       "  }\n",
       "  th {\n",
       "    text-align: left;\n",
       "  }\n",
       "</style><div class='table-result-container'><table class='table-result'><thead style='background-color: white'><tr><th>ID</th><th>NAME</th><th>HOST_ID</th><th>HOST_NAME</th><th>NEIGHBOURHOOD</th><th>LATITUDE</th><th>LONGITUDE</th><th>ROOM_TYPE</th><th>PRICE</th><th>MINIMUM_NIGHTS</th><th>NUMBER_OF_REVIEWS</th><th>LAST_REVIEW</th><th>REVIEWS_PER_MONTH</th><th>CALCULATED_HOST_LISTINGS_COUNT</th><th>AVAILABILITY_365</th><th>NUMBER_OF_REVIEWS_LTM</th></tr></thead><tbody><tr><td>106332</td><td>Lovely large room, Bethnal Green</td><td>264345</td><td>Susie</td><td>Tower Hamlets</td><td>51.52874</td><td>-0.05396</td><td>Private room</td><td>55</td><td>3</td><td>65</td><td>2016-06-10</td><td>0.47</td><td>1</td><td>74</td><td>0</td></tr><tr><td>13913</td><td>Holiday London DB Room Let-on going</td><td>54730</td><td>Alina</td><td>Islington</td><td>51.56861</td><td>-0.1127</td><td>Private room</td><td>50</td><td>1</td><td>30</td><td>2022-07-15</td><td>0.2</td><td>2</td><td>343</td><td>9</td></tr></tbody></table></div>"
      ]
     },
     "metadata": {
      "application/vnd.databricks.v1+output": {
       "addedWidgets": {},
       "aggData": [],
       "aggError": "",
       "aggOverflow": false,
       "aggSchema": [],
       "aggSeriesLimitReached": false,
       "aggType": "",
       "arguments": {},
       "columnCustomDisplayInfos": {},
       "data": [
        [
         "106332",
         "Lovely large room, Bethnal Green",
         "264345",
         "Susie",
         "Tower Hamlets",
         51.52874,
         -0.05396,
         "Private room",
         "55",
         "3",
         "65",
         "2016-06-10",
         0.47,
         "1",
         "74",
         "0"
        ],
        [
         "13913",
         "Holiday London DB Room Let-on going",
         "54730",
         "Alina",
         "Islington",
         51.56861,
         -0.1127,
         "Private room",
         "50",
         "1",
         "30",
         "2022-07-15",
         0.2,
         "2",
         "343",
         "9"
        ]
       ],
       "datasetInfos": [],
       "dbfsResultPath": null,
       "isJsonSchema": true,
       "metadata": {},
       "overflow": false,
       "plotOptions": {
        "customPlotOptions": {},
        "displayType": "table",
        "pivotAggregation": null,
        "pivotColumns": null,
        "xColumns": null,
        "yColumns": null
       },
       "removedWidgets": [],
       "schema": [
        {
         "metadata": "{}",
         "name": "ID",
         "type": "\"decimal(38,0)\""
        },
        {
         "metadata": "{}",
         "name": "NAME",
         "type": "\"string\""
        },
        {
         "metadata": "{}",
         "name": "HOST_ID",
         "type": "\"decimal(38,0)\""
        },
        {
         "metadata": "{}",
         "name": "HOST_NAME",
         "type": "\"string\""
        },
        {
         "metadata": "{}",
         "name": "NEIGHBOURHOOD",
         "type": "\"string\""
        },
        {
         "metadata": "{}",
         "name": "LATITUDE",
         "type": "\"double\""
        },
        {
         "metadata": "{}",
         "name": "LONGITUDE",
         "type": "\"double\""
        },
        {
         "metadata": "{}",
         "name": "ROOM_TYPE",
         "type": "\"string\""
        },
        {
         "metadata": "{}",
         "name": "PRICE",
         "type": "\"decimal(38,0)\""
        },
        {
         "metadata": "{}",
         "name": "MINIMUM_NIGHTS",
         "type": "\"decimal(38,0)\""
        },
        {
         "metadata": "{}",
         "name": "NUMBER_OF_REVIEWS",
         "type": "\"decimal(38,0)\""
        },
        {
         "metadata": "{}",
         "name": "LAST_REVIEW",
         "type": "\"string\""
        },
        {
         "metadata": "{}",
         "name": "REVIEWS_PER_MONTH",
         "type": "\"double\""
        },
        {
         "metadata": "{}",
         "name": "CALCULATED_HOST_LISTINGS_COUNT",
         "type": "\"decimal(38,0)\""
        },
        {
         "metadata": "{}",
         "name": "AVAILABILITY_365",
         "type": "\"decimal(38,0)\""
        },
        {
         "metadata": "{}",
         "name": "NUMBER_OF_REVIEWS_LTM",
         "type": "\"decimal(38,0)\""
        }
       ],
       "type": "table"
      }
     },
     "output_type": "display_data"
    }
   ],
   "source": [
    "# Dropping 2 columns as they don't have any values - excessive missing values\n",
    "\n",
    "columns_to_drop = ['neighbourhood_group', 'license'] # Specify column names to drop\n",
    "listings_df = listings_df.drop(*columns_to_drop)\n",
    "display(listings_df.limit(2)) # Display data to check"
   ]
  },
  {
   "cell_type": "code",
   "execution_count": null,
   "metadata": {
    "application/vnd.databricks.v1+cell": {
     "cellMetadata": {
      "byteLimit": 2048000,
      "rowLimit": 10000
     },
     "inputWidgets": {},
     "nuid": "d7030f5a-c0b3-4b76-b51f-cf9c57555c33",
     "showTitle": false,
     "title": ""
    }
   },
   "outputs": [],
   "source": [
    "listings_df = listings_df.dropDuplicates(['id']) # Removing duplicates based on 'id' column"
   ]
  },
  {
   "cell_type": "code",
   "execution_count": null,
   "metadata": {
    "application/vnd.databricks.v1+cell": {
     "cellMetadata": {
      "byteLimit": 2048000,
      "rowLimit": 10000
     },
     "inputWidgets": {},
     "nuid": "a6123f5a-f0b4-4856-b953-f318194602b0",
     "showTitle": false,
     "title": ""
    }
   },
   "outputs": [
    {
     "data": {
      "text/html": [
       "<style scoped>\n",
       "  .table-result-container {\n",
       "    max-height: 300px;\n",
       "    overflow: auto;\n",
       "  }\n",
       "  table, th, td {\n",
       "    border: 1px solid black;\n",
       "    border-collapse: collapse;\n",
       "  }\n",
       "  th, td {\n",
       "    padding: 5px;\n",
       "  }\n",
       "  th {\n",
       "    text-align: left;\n",
       "  }\n",
       "</style><div class='table-result-container'><table class='table-result'><thead style='background-color: white'><tr><th>ID</th><th>NAME</th><th>HOST_ID</th><th>HOST_NAME</th><th>NEIGHBOURHOOD</th><th>LATITUDE</th><th>LONGITUDE</th><th>ROOM_TYPE</th><th>PRICE</th><th>MINIMUM_NIGHTS</th><th>NUMBER_OF_REVIEWS</th><th>LAST_REVIEW</th><th>REVIEWS_PER_MONTH</th><th>CALCULATED_HOST_LISTINGS_COUNT</th><th>AVAILABILITY_365</th><th>NUMBER_OF_REVIEWS_LTM</th></tr></thead><tbody><tr><td>0</td><td>21</td><td>0</td><td>5</td><td>0</td><td>0</td><td>0</td><td>0</td><td>0</td><td>0</td><td>0</td><td>16780</td><td>16780</td><td>0</td><td>0</td><td>0</td></tr></tbody></table></div>"
      ]
     },
     "metadata": {
      "application/vnd.databricks.v1+output": {
       "addedWidgets": {},
       "aggData": [],
       "aggError": "",
       "aggOverflow": false,
       "aggSchema": [],
       "aggSeriesLimitReached": false,
       "aggType": "",
       "arguments": {},
       "columnCustomDisplayInfos": {},
       "data": [
        [
         0,
         21,
         0,
         5,
         0,
         0,
         0,
         0,
         0,
         0,
         0,
         16780,
         16780,
         0,
         0,
         0
        ]
       ],
       "datasetInfos": [],
       "dbfsResultPath": null,
       "isJsonSchema": true,
       "metadata": {},
       "overflow": false,
       "plotOptions": {
        "customPlotOptions": {},
        "displayType": "table",
        "pivotAggregation": null,
        "pivotColumns": null,
        "xColumns": null,
        "yColumns": null
       },
       "removedWidgets": [],
       "schema": [
        {
         "metadata": "{}",
         "name": "ID",
         "type": "\"long\""
        },
        {
         "metadata": "{}",
         "name": "NAME",
         "type": "\"long\""
        },
        {
         "metadata": "{}",
         "name": "HOST_ID",
         "type": "\"long\""
        },
        {
         "metadata": "{}",
         "name": "HOST_NAME",
         "type": "\"long\""
        },
        {
         "metadata": "{}",
         "name": "NEIGHBOURHOOD",
         "type": "\"long\""
        },
        {
         "metadata": "{}",
         "name": "LATITUDE",
         "type": "\"long\""
        },
        {
         "metadata": "{}",
         "name": "LONGITUDE",
         "type": "\"long\""
        },
        {
         "metadata": "{}",
         "name": "ROOM_TYPE",
         "type": "\"long\""
        },
        {
         "metadata": "{}",
         "name": "PRICE",
         "type": "\"long\""
        },
        {
         "metadata": "{}",
         "name": "MINIMUM_NIGHTS",
         "type": "\"long\""
        },
        {
         "metadata": "{}",
         "name": "NUMBER_OF_REVIEWS",
         "type": "\"long\""
        },
        {
         "metadata": "{}",
         "name": "LAST_REVIEW",
         "type": "\"long\""
        },
        {
         "metadata": "{}",
         "name": "REVIEWS_PER_MONTH",
         "type": "\"long\""
        },
        {
         "metadata": "{}",
         "name": "CALCULATED_HOST_LISTINGS_COUNT",
         "type": "\"long\""
        },
        {
         "metadata": "{}",
         "name": "AVAILABILITY_365",
         "type": "\"long\""
        },
        {
         "metadata": "{}",
         "name": "NUMBER_OF_REVIEWS_LTM",
         "type": "\"long\""
        }
       ],
       "type": "table"
      }
     },
     "output_type": "display_data"
    }
   ],
   "source": [
    "# Check null count in each column\n",
    "\n",
    "null_count = listings_df.select([\n",
    "    count(when(col(c).isNull(), c)).alias(c) for c in listings_df.columns\n",
    "])\n",
    "\n",
    "null_count.display()"
   ]
  },
  {
   "cell_type": "code",
   "execution_count": null,
   "metadata": {
    "application/vnd.databricks.v1+cell": {
     "cellMetadata": {
      "byteLimit": 2048000,
      "rowLimit": 10000
     },
     "inputWidgets": {},
     "nuid": "bd84a100-ef56-42f4-a3fe-dd7333ebaea0",
     "showTitle": false,
     "title": ""
    }
   },
   "outputs": [],
   "source": [
    "# Instead of filling, we are dropping rows having null values\n",
    "\n",
    "listings_df = listings_df.dropna(subset=['NAME', 'HOST_NAME', 'LAST_REVIEW', 'REVIEWS_PER_MONTH']) # Specify columns that have null values"
   ]
  },
  {
   "cell_type": "code",
   "execution_count": null,
   "metadata": {
    "application/vnd.databricks.v1+cell": {
     "cellMetadata": {
      "byteLimit": 2048000,
      "rowLimit": 10000
     },
     "inputWidgets": {},
     "nuid": "3e51b67a-ed65-4071-a21f-55d1099699a2",
     "showTitle": false,
     "title": ""
    }
   },
   "outputs": [
    {
     "data": {
      "text/html": [
       "<style scoped>\n",
       "  .table-result-container {\n",
       "    max-height: 300px;\n",
       "    overflow: auto;\n",
       "  }\n",
       "  table, th, td {\n",
       "    border: 1px solid black;\n",
       "    border-collapse: collapse;\n",
       "  }\n",
       "  th, td {\n",
       "    padding: 5px;\n",
       "  }\n",
       "  th {\n",
       "    text-align: left;\n",
       "  }\n",
       "</style><div class='table-result-container'><table class='table-result'><thead style='background-color: white'><tr><th>ID</th><th>NAME</th><th>HOST_ID</th><th>HOST_NAME</th><th>NEIGHBOURHOOD</th><th>LATITUDE</th><th>LONGITUDE</th><th>ROOM_TYPE</th><th>PRICE</th><th>MINIMUM_NIGHTS</th><th>NUMBER_OF_REVIEWS</th><th>LAST_REVIEW</th><th>REVIEWS_PER_MONTH</th><th>CALCULATED_HOST_LISTINGS_COUNT</th><th>AVAILABILITY_365</th><th>NUMBER_OF_REVIEWS_LTM</th></tr></thead><tbody><tr><td>0</td><td>0</td><td>0</td><td>0</td><td>0</td><td>0</td><td>0</td><td>0</td><td>0</td><td>0</td><td>0</td><td>0</td><td>0</td><td>0</td><td>0</td><td>0</td></tr></tbody></table></div>"
      ]
     },
     "metadata": {
      "application/vnd.databricks.v1+output": {
       "addedWidgets": {},
       "aggData": [],
       "aggError": "",
       "aggOverflow": false,
       "aggSchema": [],
       "aggSeriesLimitReached": false,
       "aggType": "",
       "arguments": {},
       "columnCustomDisplayInfos": {},
       "data": [
        [
         0,
         0,
         0,
         0,
         0,
         0,
         0,
         0,
         0,
         0,
         0,
         0,
         0,
         0,
         0,
         0
        ]
       ],
       "datasetInfos": [],
       "dbfsResultPath": null,
       "isJsonSchema": true,
       "metadata": {},
       "overflow": false,
       "plotOptions": {
        "customPlotOptions": {},
        "displayType": "table",
        "pivotAggregation": null,
        "pivotColumns": null,
        "xColumns": null,
        "yColumns": null
       },
       "removedWidgets": [],
       "schema": [
        {
         "metadata": "{}",
         "name": "ID",
         "type": "\"long\""
        },
        {
         "metadata": "{}",
         "name": "NAME",
         "type": "\"long\""
        },
        {
         "metadata": "{}",
         "name": "HOST_ID",
         "type": "\"long\""
        },
        {
         "metadata": "{}",
         "name": "HOST_NAME",
         "type": "\"long\""
        },
        {
         "metadata": "{}",
         "name": "NEIGHBOURHOOD",
         "type": "\"long\""
        },
        {
         "metadata": "{}",
         "name": "LATITUDE",
         "type": "\"long\""
        },
        {
         "metadata": "{}",
         "name": "LONGITUDE",
         "type": "\"long\""
        },
        {
         "metadata": "{}",
         "name": "ROOM_TYPE",
         "type": "\"long\""
        },
        {
         "metadata": "{}",
         "name": "PRICE",
         "type": "\"long\""
        },
        {
         "metadata": "{}",
         "name": "MINIMUM_NIGHTS",
         "type": "\"long\""
        },
        {
         "metadata": "{}",
         "name": "NUMBER_OF_REVIEWS",
         "type": "\"long\""
        },
        {
         "metadata": "{}",
         "name": "LAST_REVIEW",
         "type": "\"long\""
        },
        {
         "metadata": "{}",
         "name": "REVIEWS_PER_MONTH",
         "type": "\"long\""
        },
        {
         "metadata": "{}",
         "name": "CALCULATED_HOST_LISTINGS_COUNT",
         "type": "\"long\""
        },
        {
         "metadata": "{}",
         "name": "AVAILABILITY_365",
         "type": "\"long\""
        },
        {
         "metadata": "{}",
         "name": "NUMBER_OF_REVIEWS_LTM",
         "type": "\"long\""
        }
       ],
       "type": "table"
      }
     },
     "output_type": "display_data"
    }
   ],
   "source": [
    "# Rechecking null values\n",
    "\n",
    "null_count = listings_df.select([\n",
    "    count(when(col(c).isNull(), c)).alias(c) for c in listings_df.columns\n",
    "])\n",
    "\n",
    "null_count.display()"
   ]
  },
  {
   "cell_type": "code",
   "execution_count": null,
   "metadata": {
    "application/vnd.databricks.v1+cell": {
     "cellMetadata": {
      "byteLimit": 2048000,
      "rowLimit": 10000
     },
     "inputWidgets": {},
     "nuid": "a393bec0-4770-4d91-b178-2185e4281d06",
     "showTitle": false,
     "title": ""
    }
   },
   "outputs": [],
   "source": [
    "# Since data cleansing is done, we can change to respective dtypes\n",
    "\n",
    "listings_df = listings_df.withColumn(\"id\", listings_df[\"id\"].cast(StringType())) \\\n",
    "                         .withColumn(\"name\", listings_df[\"name\"].cast(StringType())) \\\n",
    "                         .withColumn(\"host_id\", listings_df[\"host_id\"].cast(IntegerType())) \\\n",
    "                         .withColumn(\"host_name\", listings_df[\"host_name\"].cast(StringType())) \\\n",
    "                         .withColumn(\"neighbourhood\", listings_df[\"neighbourhood\"].cast(StringType())) \\\n",
    "                         .withColumn(\"latitude\", listings_df[\"latitude\"].cast(FloatType())) \\\n",
    "                         .withColumn(\"longitude\", listings_df[\"longitude\"].cast(FloatType())) \\\n",
    "                         .withColumn(\"room_type\", listings_df[\"room_type\"].cast(StringType())) \\\n",
    "                         .withColumn(\"price\", listings_df[\"price\"].cast(FloatType())) \\\n",
    "                         .withColumn(\"minimum_nights\", listings_df[\"minimum_nights\"].cast(IntegerType())) \\\n",
    "                         .withColumn(\"number_of_reviews\", listings_df[\"number_of_reviews\"].cast(IntegerType())) \\\n",
    "                         .withColumn(\"last_review\", listings_df[\"last_review\"].cast(DateType())) \\\n",
    "                         .withColumn(\"reviews_per_month\", listings_df[\"reviews_per_month\"].cast(FloatType())) \\\n",
    "                         .withColumn(\"calculated_host_listings_count\", listings_df[\"calculated_host_listings_count\"].cast(IntegerType())) \\\n",
    "                         .withColumn(\"availability_365\", listings_df[\"availability_365\"].cast(IntegerType())) \\\n",
    "                         .withColumn(\"number_of_reviews_ltm\", listings_df[\"number_of_reviews_ltm\"].cast(IntegerType()))"
   ]
  },
  {
   "cell_type": "code",
   "execution_count": null,
   "metadata": {
    "application/vnd.databricks.v1+cell": {
     "cellMetadata": {
      "byteLimit": 2048000,
      "rowLimit": 10000
     },
     "inputWidgets": {},
     "nuid": "0ac8f39a-2fa0-4737-ad75-0e9c151261b4",
     "showTitle": false,
     "title": ""
    }
   },
   "outputs": [
    {
     "name": "stdout",
     "output_type": "stream",
     "text": [
      "root\n",
      " |-- id: string (nullable = true)\n",
      " |-- name: string (nullable = true)\n",
      " |-- host_id: integer (nullable = true)\n",
      " |-- host_name: string (nullable = true)\n",
      " |-- neighbourhood: string (nullable = true)\n",
      " |-- latitude: float (nullable = true)\n",
      " |-- longitude: float (nullable = true)\n",
      " |-- room_type: string (nullable = true)\n",
      " |-- price: float (nullable = true)\n",
      " |-- minimum_nights: integer (nullable = true)\n",
      " |-- number_of_reviews: integer (nullable = true)\n",
      " |-- last_review: date (nullable = true)\n",
      " |-- reviews_per_month: float (nullable = true)\n",
      " |-- calculated_host_listings_count: integer (nullable = true)\n",
      " |-- availability_365: integer (nullable = true)\n",
      " |-- number_of_reviews_ltm: integer (nullable = true)\n",
      "\n"
     ]
    }
   ],
   "source": [
    "listings_df.printSchema() # Rechecking our schema"
   ]
  },
  {
   "cell_type": "code",
   "execution_count": null,
   "metadata": {
    "application/vnd.databricks.v1+cell": {
     "cellMetadata": {
      "byteLimit": 2048000,
      "rowLimit": 10000
     },
     "inputWidgets": {},
     "nuid": "48be2c55-000a-486e-969f-f106b32c315c",
     "showTitle": true,
     "title": "Feature Engineering"
    }
   },
   "outputs": [
    {
     "data": {
      "text/html": [
       "<style scoped>\n",
       "  .table-result-container {\n",
       "    max-height: 300px;\n",
       "    overflow: auto;\n",
       "  }\n",
       "  table, th, td {\n",
       "    border: 1px solid black;\n",
       "    border-collapse: collapse;\n",
       "  }\n",
       "  th, td {\n",
       "    padding: 5px;\n",
       "  }\n",
       "  th {\n",
       "    text-align: left;\n",
       "  }\n",
       "</style><div class='table-result-container'><table class='table-result'><thead style='background-color: white'><tr><th>id</th><th>name</th><th>host_id</th><th>host_name</th><th>neighbourhood</th><th>latitude</th><th>longitude</th><th>room_type</th><th>price</th><th>minimum_nights</th><th>number_of_reviews</th><th>last_review</th><th>reviews_per_month</th><th>calculated_host_listings_count</th><th>availability_365</th><th>number_of_reviews_ltm</th><th>price_range_bin</th></tr></thead><tbody><tr><td>13913</td><td>Holiday London DB Room Let-on going</td><td>54730</td><td>Alina</td><td>Islington</td><td>51.56861</td><td>-0.1127</td><td>Private room</td><td>50.0</td><td>1</td><td>30</td><td>2022-07-15</td><td>0.2</td><td>2</td><td>343</td><td>9</td><td>Low</td></tr><tr><td>47192</td><td>Single Room in zone 1</td><td>212734</td><td>Let'S Dance, Put On Your Red Shoes</td><td>Camden</td><td>51.52958</td><td>-0.14344</td><td>Private room</td><td>48.0</td><td>2</td><td>419</td><td>2022-09-04</td><td>2.88</td><td>1</td><td>318</td><td>44</td><td>Low</td></tr><tr><td>49970</td><td>Beautiful Small Studio Hammersmith</td><td>216660</td><td>Boris</td><td>Hammersmith and Fulham</td><td>51.49462</td><td>-0.22923</td><td>Hotel room</td><td>72.0</td><td>1</td><td>110</td><td>2022-08-07</td><td>0.77</td><td>11</td><td>229</td><td>20</td><td>Low</td></tr><tr><td>70482</td><td>Fabulous Hackney Flat  Victoria Park London fields</td><td>357352</td><td>Michael</td><td>Hackney</td><td>51.54096</td><td>-0.0487</td><td>Entire home/apt</td><td>190.0</td><td>5</td><td>2</td><td>2022-08-31</td><td>0.78</td><td>1</td><td>362</td><td>2</td><td>Low</td></tr><tr><td>78892</td><td>Bright single room in family home.</td><td>424230</td><td>Julia</td><td>Southwark</td><td>51.46478</td><td>-0.08007</td><td>Private room</td><td>40.0</td><td>7</td><td>58</td><td>2022-05-15</td><td>0.64</td><td>1</td><td>2</td><td>2</td><td>Low</td></tr></tbody></table></div>"
      ]
     },
     "metadata": {
      "application/vnd.databricks.v1+output": {
       "addedWidgets": {},
       "aggData": [],
       "aggError": "",
       "aggOverflow": false,
       "aggSchema": [],
       "aggSeriesLimitReached": false,
       "aggType": "",
       "arguments": {},
       "columnCustomDisplayInfos": {},
       "data": [
        [
         "13913",
         "Holiday London DB Room Let-on going",
         54730,
         "Alina",
         "Islington",
         51.56861,
         -0.1127,
         "Private room",
         50,
         1,
         30,
         "2022-07-15",
         0.2,
         2,
         343,
         9,
         "Low"
        ],
        [
         "47192",
         "Single Room in zone 1",
         212734,
         "Let'S Dance, Put On Your Red Shoes",
         "Camden",
         51.52958,
         -0.14344,
         "Private room",
         48,
         2,
         419,
         "2022-09-04",
         2.88,
         1,
         318,
         44,
         "Low"
        ],
        [
         "49970",
         "Beautiful Small Studio Hammersmith",
         216660,
         "Boris",
         "Hammersmith and Fulham",
         51.49462,
         -0.22923,
         "Hotel room",
         72,
         1,
         110,
         "2022-08-07",
         0.77,
         11,
         229,
         20,
         "Low"
        ],
        [
         "70482",
         "Fabulous Hackney Flat  Victoria Park London fields",
         357352,
         "Michael",
         "Hackney",
         51.54096,
         -0.0487,
         "Entire home/apt",
         190,
         5,
         2,
         "2022-08-31",
         0.78,
         1,
         362,
         2,
         "Low"
        ],
        [
         "78892",
         "Bright single room in family home.",
         424230,
         "Julia",
         "Southwark",
         51.46478,
         -0.08007,
         "Private room",
         40,
         7,
         58,
         "2022-05-15",
         0.64,
         1,
         2,
         2,
         "Low"
        ]
       ],
       "datasetInfos": [],
       "dbfsResultPath": null,
       "isJsonSchema": true,
       "metadata": {},
       "overflow": false,
       "plotOptions": {
        "customPlotOptions": {},
        "displayType": "table",
        "pivotAggregation": null,
        "pivotColumns": null,
        "xColumns": null,
        "yColumns": null
       },
       "removedWidgets": [],
       "schema": [
        {
         "metadata": "{}",
         "name": "id",
         "type": "\"string\""
        },
        {
         "metadata": "{}",
         "name": "name",
         "type": "\"string\""
        },
        {
         "metadata": "{}",
         "name": "host_id",
         "type": "\"integer\""
        },
        {
         "metadata": "{}",
         "name": "host_name",
         "type": "\"string\""
        },
        {
         "metadata": "{}",
         "name": "neighbourhood",
         "type": "\"string\""
        },
        {
         "metadata": "{}",
         "name": "latitude",
         "type": "\"float\""
        },
        {
         "metadata": "{}",
         "name": "longitude",
         "type": "\"float\""
        },
        {
         "metadata": "{}",
         "name": "room_type",
         "type": "\"string\""
        },
        {
         "metadata": "{}",
         "name": "price",
         "type": "\"float\""
        },
        {
         "metadata": "{}",
         "name": "minimum_nights",
         "type": "\"integer\""
        },
        {
         "metadata": "{}",
         "name": "number_of_reviews",
         "type": "\"integer\""
        },
        {
         "metadata": "{}",
         "name": "last_review",
         "type": "\"date\""
        },
        {
         "metadata": "{}",
         "name": "reviews_per_month",
         "type": "\"float\""
        },
        {
         "metadata": "{}",
         "name": "calculated_host_listings_count",
         "type": "\"integer\""
        },
        {
         "metadata": "{}",
         "name": "availability_365",
         "type": "\"integer\""
        },
        {
         "metadata": "{}",
         "name": "number_of_reviews_ltm",
         "type": "\"integer\""
        },
        {
         "metadata": "{}",
         "name": "price_range_bin",
         "type": "\"string\""
        }
       ],
       "type": "table"
      }
     },
     "output_type": "display_data"
    }
   ],
   "source": [
    "# Creating a column 'price_range_bin' that bins the listing's prices into ranges\n",
    "# Greater than 5000 is 'Very High', greater than 1000 & lesser than 5000 is 'High\n",
    "# Inbetween 500 and 1000 is 'Medium' & inbetween 0 and 500 is 'Low'\n",
    "\n",
    "listings_df = listings_df.withColumn(\"price_range_bin\", when(col(\"price\") > 5000, \"Very High\") \\\n",
    "                         .when((col(\"price\") >= 1000) & (col(\"price\") <= 5000), \"High\") \\\n",
    "                         .when((col(\"price\") >= 500) & (col(\"price\") <= 1000), \"Medium\") \\\n",
    "                         .when((col(\"price\") > 1) & (col(\"price\") <= 500), \"Low\") \\\n",
    "                         .otherwise(\"Out of Range\"))\n",
    "\n",
    "display(listings_df.limit(5))"
   ]
  },
  {
   "cell_type": "code",
   "execution_count": null,
   "metadata": {
    "application/vnd.databricks.v1+cell": {
     "cellMetadata": {
      "byteLimit": 2048000,
      "rowLimit": 10000
     },
     "inputWidgets": {},
     "nuid": "040f2cd6-3675-4da5-b1dc-9721b784117e",
     "showTitle": false,
     "title": ""
    }
   },
   "outputs": [
    {
     "data": {
      "text/html": [
       "<style scoped>\n",
       "  .table-result-container {\n",
       "    max-height: 300px;\n",
       "    overflow: auto;\n",
       "  }\n",
       "  table, th, td {\n",
       "    border: 1px solid black;\n",
       "    border-collapse: collapse;\n",
       "  }\n",
       "  th, td {\n",
       "    padding: 5px;\n",
       "  }\n",
       "  th {\n",
       "    text-align: left;\n",
       "  }\n",
       "</style><div class='table-result-container'><table class='table-result'><thead style='background-color: white'><tr><th>id</th><th>name</th><th>host_id</th><th>host_name</th><th>neighbourhood</th><th>latitude</th><th>longitude</th><th>room_type</th><th>price</th><th>minimum_nights</th><th>number_of_reviews</th><th>last_review</th><th>reviews_per_month</th><th>calculated_host_listings_count</th><th>availability_365</th><th>number_of_reviews_ltm</th><th>price_range_bin</th><th>days_since_last_review</th></tr></thead><tbody><tr><td>13913</td><td>Holiday London DB Room Let-on going</td><td>54730</td><td>Alina</td><td>Islington</td><td>51.56861</td><td>-0.1127</td><td>Private room</td><td>50.0</td><td>1</td><td>30</td><td>2022-07-15</td><td>0.2</td><td>2</td><td>343</td><td>9</td><td>Low</td><td>753</td></tr><tr><td>47192</td><td>Single Room in zone 1</td><td>212734</td><td>Let'S Dance, Put On Your Red Shoes</td><td>Camden</td><td>51.52958</td><td>-0.14344</td><td>Private room</td><td>48.0</td><td>2</td><td>419</td><td>2022-09-04</td><td>2.88</td><td>1</td><td>318</td><td>44</td><td>Low</td><td>702</td></tr><tr><td>49970</td><td>Beautiful Small Studio Hammersmith</td><td>216660</td><td>Boris</td><td>Hammersmith and Fulham</td><td>51.49462</td><td>-0.22923</td><td>Hotel room</td><td>72.0</td><td>1</td><td>110</td><td>2022-08-07</td><td>0.77</td><td>11</td><td>229</td><td>20</td><td>Low</td><td>730</td></tr><tr><td>70482</td><td>Fabulous Hackney Flat  Victoria Park London fields</td><td>357352</td><td>Michael</td><td>Hackney</td><td>51.54096</td><td>-0.0487</td><td>Entire home/apt</td><td>190.0</td><td>5</td><td>2</td><td>2022-08-31</td><td>0.78</td><td>1</td><td>362</td><td>2</td><td>Low</td><td>706</td></tr><tr><td>78892</td><td>Bright single room in family home.</td><td>424230</td><td>Julia</td><td>Southwark</td><td>51.46478</td><td>-0.08007</td><td>Private room</td><td>40.0</td><td>7</td><td>58</td><td>2022-05-15</td><td>0.64</td><td>1</td><td>2</td><td>2</td><td>Low</td><td>814</td></tr></tbody></table></div>"
      ]
     },
     "metadata": {
      "application/vnd.databricks.v1+output": {
       "addedWidgets": {},
       "aggData": [],
       "aggError": "",
       "aggOverflow": false,
       "aggSchema": [],
       "aggSeriesLimitReached": false,
       "aggType": "",
       "arguments": {},
       "columnCustomDisplayInfos": {},
       "data": [
        [
         "13913",
         "Holiday London DB Room Let-on going",
         54730,
         "Alina",
         "Islington",
         51.56861,
         -0.1127,
         "Private room",
         50,
         1,
         30,
         "2022-07-15",
         0.2,
         2,
         343,
         9,
         "Low",
         753
        ],
        [
         "47192",
         "Single Room in zone 1",
         212734,
         "Let'S Dance, Put On Your Red Shoes",
         "Camden",
         51.52958,
         -0.14344,
         "Private room",
         48,
         2,
         419,
         "2022-09-04",
         2.88,
         1,
         318,
         44,
         "Low",
         702
        ],
        [
         "49970",
         "Beautiful Small Studio Hammersmith",
         216660,
         "Boris",
         "Hammersmith and Fulham",
         51.49462,
         -0.22923,
         "Hotel room",
         72,
         1,
         110,
         "2022-08-07",
         0.77,
         11,
         229,
         20,
         "Low",
         730
        ],
        [
         "70482",
         "Fabulous Hackney Flat  Victoria Park London fields",
         357352,
         "Michael",
         "Hackney",
         51.54096,
         -0.0487,
         "Entire home/apt",
         190,
         5,
         2,
         "2022-08-31",
         0.78,
         1,
         362,
         2,
         "Low",
         706
        ],
        [
         "78892",
         "Bright single room in family home.",
         424230,
         "Julia",
         "Southwark",
         51.46478,
         -0.08007,
         "Private room",
         40,
         7,
         58,
         "2022-05-15",
         0.64,
         1,
         2,
         2,
         "Low",
         814
        ]
       ],
       "datasetInfos": [],
       "dbfsResultPath": null,
       "isJsonSchema": true,
       "metadata": {},
       "overflow": false,
       "plotOptions": {
        "customPlotOptions": {},
        "displayType": "table",
        "pivotAggregation": null,
        "pivotColumns": null,
        "xColumns": null,
        "yColumns": null
       },
       "removedWidgets": [],
       "schema": [
        {
         "metadata": "{}",
         "name": "id",
         "type": "\"string\""
        },
        {
         "metadata": "{}",
         "name": "name",
         "type": "\"string\""
        },
        {
         "metadata": "{}",
         "name": "host_id",
         "type": "\"integer\""
        },
        {
         "metadata": "{}",
         "name": "host_name",
         "type": "\"string\""
        },
        {
         "metadata": "{}",
         "name": "neighbourhood",
         "type": "\"string\""
        },
        {
         "metadata": "{}",
         "name": "latitude",
         "type": "\"float\""
        },
        {
         "metadata": "{}",
         "name": "longitude",
         "type": "\"float\""
        },
        {
         "metadata": "{}",
         "name": "room_type",
         "type": "\"string\""
        },
        {
         "metadata": "{}",
         "name": "price",
         "type": "\"float\""
        },
        {
         "metadata": "{}",
         "name": "minimum_nights",
         "type": "\"integer\""
        },
        {
         "metadata": "{}",
         "name": "number_of_reviews",
         "type": "\"integer\""
        },
        {
         "metadata": "{}",
         "name": "last_review",
         "type": "\"date\""
        },
        {
         "metadata": "{}",
         "name": "reviews_per_month",
         "type": "\"float\""
        },
        {
         "metadata": "{}",
         "name": "calculated_host_listings_count",
         "type": "\"integer\""
        },
        {
         "metadata": "{}",
         "name": "availability_365",
         "type": "\"integer\""
        },
        {
         "metadata": "{}",
         "name": "number_of_reviews_ltm",
         "type": "\"integer\""
        },
        {
         "metadata": "{}",
         "name": "price_range_bin",
         "type": "\"string\""
        },
        {
         "metadata": "{}",
         "name": "days_since_last_review",
         "type": "\"integer\""
        }
       ],
       "type": "table"
      }
     },
     "output_type": "display_data"
    }
   ],
   "source": [
    "# Creating column 'days_since_last_review' calculating days since last review\n",
    "\n",
    "listings_df = listings_df \\\n",
    "        .withColumn(\"current_date\", current_date()) \\\n",
    "        .withColumn(\"days_since_last_review\", \\\n",
    "        datediff(col(\"current_date\"), \\\n",
    "        col(\"last_review\"))) \\\n",
    "        .drop(\"current_date\") # Drops 'current_date' column after calculation\n",
    "\n",
    "display(listings_df.limit(5))"
   ]
  },
  {
   "cell_type": "code",
   "execution_count": null,
   "metadata": {
    "application/vnd.databricks.v1+cell": {
     "cellMetadata": {
      "byteLimit": 2048000,
      "rowLimit": 10000
     },
     "inputWidgets": {},
     "nuid": "806da01d-8075-4e3c-8f9e-f93cdb1af6cd",
     "showTitle": false,
     "title": ""
    }
   },
   "outputs": [
    {
     "data": {
      "text/html": [
       "<style scoped>\n",
       "  .table-result-container {\n",
       "    max-height: 300px;\n",
       "    overflow: auto;\n",
       "  }\n",
       "  table, th, td {\n",
       "    border: 1px solid black;\n",
       "    border-collapse: collapse;\n",
       "  }\n",
       "  th, td {\n",
       "    padding: 5px;\n",
       "  }\n",
       "  th {\n",
       "    text-align: left;\n",
       "  }\n",
       "</style><div class='table-result-container'><table class='table-result'><thead style='background-color: white'><tr><th>id</th><th>name</th><th>host_id</th><th>host_name</th><th>neighbourhood</th><th>latitude</th><th>longitude</th><th>room_type</th><th>price</th><th>minimum_nights</th><th>number_of_reviews</th><th>last_review</th><th>reviews_per_month</th><th>calculated_host_listings_count</th><th>availability_365</th><th>number_of_reviews_ltm</th><th>price_range_bin</th><th>days_since_last_review</th><th>week_of_year</th></tr></thead><tbody><tr><td>13913</td><td>Holiday London DB Room Let-on going</td><td>54730</td><td>Alina</td><td>Islington</td><td>51.56861</td><td>-0.1127</td><td>Private room</td><td>50.0</td><td>1</td><td>30</td><td>2022-07-15</td><td>0.2</td><td>2</td><td>343</td><td>9</td><td>Low</td><td>753</td><td>28</td></tr><tr><td>47192</td><td>Single Room in zone 1</td><td>212734</td><td>Let'S Dance, Put On Your Red Shoes</td><td>Camden</td><td>51.52958</td><td>-0.14344</td><td>Private room</td><td>48.0</td><td>2</td><td>419</td><td>2022-09-04</td><td>2.88</td><td>1</td><td>318</td><td>44</td><td>Low</td><td>702</td><td>35</td></tr><tr><td>49970</td><td>Beautiful Small Studio Hammersmith</td><td>216660</td><td>Boris</td><td>Hammersmith and Fulham</td><td>51.49462</td><td>-0.22923</td><td>Hotel room</td><td>72.0</td><td>1</td><td>110</td><td>2022-08-07</td><td>0.77</td><td>11</td><td>229</td><td>20</td><td>Low</td><td>730</td><td>31</td></tr><tr><td>70482</td><td>Fabulous Hackney Flat  Victoria Park London fields</td><td>357352</td><td>Michael</td><td>Hackney</td><td>51.54096</td><td>-0.0487</td><td>Entire home/apt</td><td>190.0</td><td>5</td><td>2</td><td>2022-08-31</td><td>0.78</td><td>1</td><td>362</td><td>2</td><td>Low</td><td>706</td><td>35</td></tr><tr><td>78892</td><td>Bright single room in family home.</td><td>424230</td><td>Julia</td><td>Southwark</td><td>51.46478</td><td>-0.08007</td><td>Private room</td><td>40.0</td><td>7</td><td>58</td><td>2022-05-15</td><td>0.64</td><td>1</td><td>2</td><td>2</td><td>Low</td><td>814</td><td>19</td></tr></tbody></table></div>"
      ]
     },
     "metadata": {
      "application/vnd.databricks.v1+output": {
       "addedWidgets": {},
       "aggData": [],
       "aggError": "",
       "aggOverflow": false,
       "aggSchema": [],
       "aggSeriesLimitReached": false,
       "aggType": "",
       "arguments": {},
       "columnCustomDisplayInfos": {},
       "data": [
        [
         "13913",
         "Holiday London DB Room Let-on going",
         54730,
         "Alina",
         "Islington",
         51.56861,
         -0.1127,
         "Private room",
         50,
         1,
         30,
         "2022-07-15",
         0.2,
         2,
         343,
         9,
         "Low",
         753,
         28
        ],
        [
         "47192",
         "Single Room in zone 1",
         212734,
         "Let'S Dance, Put On Your Red Shoes",
         "Camden",
         51.52958,
         -0.14344,
         "Private room",
         48,
         2,
         419,
         "2022-09-04",
         2.88,
         1,
         318,
         44,
         "Low",
         702,
         35
        ],
        [
         "49970",
         "Beautiful Small Studio Hammersmith",
         216660,
         "Boris",
         "Hammersmith and Fulham",
         51.49462,
         -0.22923,
         "Hotel room",
         72,
         1,
         110,
         "2022-08-07",
         0.77,
         11,
         229,
         20,
         "Low",
         730,
         31
        ],
        [
         "70482",
         "Fabulous Hackney Flat  Victoria Park London fields",
         357352,
         "Michael",
         "Hackney",
         51.54096,
         -0.0487,
         "Entire home/apt",
         190,
         5,
         2,
         "2022-08-31",
         0.78,
         1,
         362,
         2,
         "Low",
         706,
         35
        ],
        [
         "78892",
         "Bright single room in family home.",
         424230,
         "Julia",
         "Southwark",
         51.46478,
         -0.08007,
         "Private room",
         40,
         7,
         58,
         "2022-05-15",
         0.64,
         1,
         2,
         2,
         "Low",
         814,
         19
        ]
       ],
       "datasetInfos": [],
       "dbfsResultPath": null,
       "isJsonSchema": true,
       "metadata": {},
       "overflow": false,
       "plotOptions": {
        "customPlotOptions": {},
        "displayType": "table",
        "pivotAggregation": null,
        "pivotColumns": null,
        "xColumns": null,
        "yColumns": null
       },
       "removedWidgets": [],
       "schema": [
        {
         "metadata": "{}",
         "name": "id",
         "type": "\"string\""
        },
        {
         "metadata": "{}",
         "name": "name",
         "type": "\"string\""
        },
        {
         "metadata": "{}",
         "name": "host_id",
         "type": "\"integer\""
        },
        {
         "metadata": "{}",
         "name": "host_name",
         "type": "\"string\""
        },
        {
         "metadata": "{}",
         "name": "neighbourhood",
         "type": "\"string\""
        },
        {
         "metadata": "{}",
         "name": "latitude",
         "type": "\"float\""
        },
        {
         "metadata": "{}",
         "name": "longitude",
         "type": "\"float\""
        },
        {
         "metadata": "{}",
         "name": "room_type",
         "type": "\"string\""
        },
        {
         "metadata": "{}",
         "name": "price",
         "type": "\"float\""
        },
        {
         "metadata": "{}",
         "name": "minimum_nights",
         "type": "\"integer\""
        },
        {
         "metadata": "{}",
         "name": "number_of_reviews",
         "type": "\"integer\""
        },
        {
         "metadata": "{}",
         "name": "last_review",
         "type": "\"date\""
        },
        {
         "metadata": "{}",
         "name": "reviews_per_month",
         "type": "\"float\""
        },
        {
         "metadata": "{}",
         "name": "calculated_host_listings_count",
         "type": "\"integer\""
        },
        {
         "metadata": "{}",
         "name": "availability_365",
         "type": "\"integer\""
        },
        {
         "metadata": "{}",
         "name": "number_of_reviews_ltm",
         "type": "\"integer\""
        },
        {
         "metadata": "{}",
         "name": "price_range_bin",
         "type": "\"string\""
        },
        {
         "metadata": "{}",
         "name": "days_since_last_review",
         "type": "\"integer\""
        },
        {
         "metadata": "{}",
         "name": "week_of_year",
         "type": "\"integer\""
        }
       ],
       "type": "table"
      }
     },
     "output_type": "display_data"
    }
   ],
   "source": [
    "# Creating a column 'week_of_year' and check the year's week number\n",
    "\n",
    "listings_df = listings_df.withColumn(\"week_of_year\", weekofyear(listings_df.last_review))\n",
    "display(listings_df.limit(5))"
   ]
  },
  {
   "cell_type": "code",
   "execution_count": null,
   "metadata": {
    "application/vnd.databricks.v1+cell": {
     "cellMetadata": {
      "byteLimit": 2048000,
      "rowLimit": 10000
     },
     "inputWidgets": {},
     "nuid": "bf24e260-a70f-438f-b131-0e13e41813c1",
     "showTitle": false,
     "title": ""
    }
   },
   "outputs": [
    {
     "data": {
      "text/html": [
       "<style scoped>\n",
       "  .table-result-container {\n",
       "    max-height: 300px;\n",
       "    overflow: auto;\n",
       "  }\n",
       "  table, th, td {\n",
       "    border: 1px solid black;\n",
       "    border-collapse: collapse;\n",
       "  }\n",
       "  th, td {\n",
       "    padding: 5px;\n",
       "  }\n",
       "  th {\n",
       "    text-align: left;\n",
       "  }\n",
       "</style><div class='table-result-container'><table class='table-result'><thead style='background-color: white'><tr><th>id</th><th>name</th><th>host_id</th><th>host_name</th><th>neighbourhood</th><th>latitude</th><th>longitude</th><th>room_type</th><th>price</th><th>minimum_nights</th><th>number_of_reviews</th><th>last_review</th><th>reviews_per_month</th><th>calculated_host_listings_count</th><th>availability_365</th><th>number_of_reviews_ltm</th><th>price_range_bin</th><th>days_since_last_review</th><th>week_of_year</th><th>review_to_availability_ratio</th></tr></thead><tbody><tr><td>13913</td><td>Holiday London DB Room Let-on going</td><td>54730</td><td>Alina</td><td>Islington</td><td>51.56861</td><td>-0.1127</td><td>Private room</td><td>50.0</td><td>1</td><td>30</td><td>2022-07-15</td><td>0.2</td><td>2</td><td>343</td><td>9</td><td>Low</td><td>753</td><td>28</td><td>0.08746355685131195</td></tr><tr><td>47192</td><td>Single Room in zone 1</td><td>212734</td><td>Let'S Dance, Put On Your Red Shoes</td><td>Camden</td><td>51.52958</td><td>-0.14344</td><td>Private room</td><td>48.0</td><td>2</td><td>419</td><td>2022-09-04</td><td>2.88</td><td>1</td><td>318</td><td>44</td><td>Low</td><td>702</td><td>35</td><td>1.3176100628930818</td></tr><tr><td>49970</td><td>Beautiful Small Studio Hammersmith</td><td>216660</td><td>Boris</td><td>Hammersmith and Fulham</td><td>51.49462</td><td>-0.22923</td><td>Hotel room</td><td>72.0</td><td>1</td><td>110</td><td>2022-08-07</td><td>0.77</td><td>11</td><td>229</td><td>20</td><td>Low</td><td>730</td><td>31</td><td>0.48034934497816595</td></tr><tr><td>70482</td><td>Fabulous Hackney Flat  Victoria Park London fields</td><td>357352</td><td>Michael</td><td>Hackney</td><td>51.54096</td><td>-0.0487</td><td>Entire home/apt</td><td>190.0</td><td>5</td><td>2</td><td>2022-08-31</td><td>0.78</td><td>1</td><td>362</td><td>2</td><td>Low</td><td>706</td><td>35</td><td>0.0055248618784530384</td></tr><tr><td>78892</td><td>Bright single room in family home.</td><td>424230</td><td>Julia</td><td>Southwark</td><td>51.46478</td><td>-0.08007</td><td>Private room</td><td>40.0</td><td>7</td><td>58</td><td>2022-05-15</td><td>0.64</td><td>1</td><td>2</td><td>2</td><td>Low</td><td>814</td><td>19</td><td>29.0</td></tr></tbody></table></div>"
      ]
     },
     "metadata": {
      "application/vnd.databricks.v1+output": {
       "addedWidgets": {},
       "aggData": [],
       "aggError": "",
       "aggOverflow": false,
       "aggSchema": [],
       "aggSeriesLimitReached": false,
       "aggType": "",
       "arguments": {},
       "columnCustomDisplayInfos": {},
       "data": [
        [
         "13913",
         "Holiday London DB Room Let-on going",
         54730,
         "Alina",
         "Islington",
         51.56861,
         -0.1127,
         "Private room",
         50,
         1,
         30,
         "2022-07-15",
         0.2,
         2,
         343,
         9,
         "Low",
         753,
         28,
         0.08746355685131195
        ],
        [
         "47192",
         "Single Room in zone 1",
         212734,
         "Let'S Dance, Put On Your Red Shoes",
         "Camden",
         51.52958,
         -0.14344,
         "Private room",
         48,
         2,
         419,
         "2022-09-04",
         2.88,
         1,
         318,
         44,
         "Low",
         702,
         35,
         1.3176100628930818
        ],
        [
         "49970",
         "Beautiful Small Studio Hammersmith",
         216660,
         "Boris",
         "Hammersmith and Fulham",
         51.49462,
         -0.22923,
         "Hotel room",
         72,
         1,
         110,
         "2022-08-07",
         0.77,
         11,
         229,
         20,
         "Low",
         730,
         31,
         0.48034934497816595
        ],
        [
         "70482",
         "Fabulous Hackney Flat  Victoria Park London fields",
         357352,
         "Michael",
         "Hackney",
         51.54096,
         -0.0487,
         "Entire home/apt",
         190,
         5,
         2,
         "2022-08-31",
         0.78,
         1,
         362,
         2,
         "Low",
         706,
         35,
         0.0055248618784530384
        ],
        [
         "78892",
         "Bright single room in family home.",
         424230,
         "Julia",
         "Southwark",
         51.46478,
         -0.08007,
         "Private room",
         40,
         7,
         58,
         "2022-05-15",
         0.64,
         1,
         2,
         2,
         "Low",
         814,
         19,
         29
        ]
       ],
       "datasetInfos": [],
       "dbfsResultPath": null,
       "isJsonSchema": true,
       "metadata": {},
       "overflow": false,
       "plotOptions": {
        "customPlotOptions": {},
        "displayType": "table",
        "pivotAggregation": null,
        "pivotColumns": null,
        "xColumns": null,
        "yColumns": null
       },
       "removedWidgets": [],
       "schema": [
        {
         "metadata": "{}",
         "name": "id",
         "type": "\"string\""
        },
        {
         "metadata": "{}",
         "name": "name",
         "type": "\"string\""
        },
        {
         "metadata": "{}",
         "name": "host_id",
         "type": "\"integer\""
        },
        {
         "metadata": "{}",
         "name": "host_name",
         "type": "\"string\""
        },
        {
         "metadata": "{}",
         "name": "neighbourhood",
         "type": "\"string\""
        },
        {
         "metadata": "{}",
         "name": "latitude",
         "type": "\"float\""
        },
        {
         "metadata": "{}",
         "name": "longitude",
         "type": "\"float\""
        },
        {
         "metadata": "{}",
         "name": "room_type",
         "type": "\"string\""
        },
        {
         "metadata": "{}",
         "name": "price",
         "type": "\"float\""
        },
        {
         "metadata": "{}",
         "name": "minimum_nights",
         "type": "\"integer\""
        },
        {
         "metadata": "{}",
         "name": "number_of_reviews",
         "type": "\"integer\""
        },
        {
         "metadata": "{}",
         "name": "last_review",
         "type": "\"date\""
        },
        {
         "metadata": "{}",
         "name": "reviews_per_month",
         "type": "\"float\""
        },
        {
         "metadata": "{}",
         "name": "calculated_host_listings_count",
         "type": "\"integer\""
        },
        {
         "metadata": "{}",
         "name": "availability_365",
         "type": "\"integer\""
        },
        {
         "metadata": "{}",
         "name": "number_of_reviews_ltm",
         "type": "\"integer\""
        },
        {
         "metadata": "{}",
         "name": "price_range_bin",
         "type": "\"string\""
        },
        {
         "metadata": "{}",
         "name": "days_since_last_review",
         "type": "\"integer\""
        },
        {
         "metadata": "{}",
         "name": "week_of_year",
         "type": "\"integer\""
        },
        {
         "metadata": "{}",
         "name": "review_to_availability_ratio",
         "type": "\"double\""
        }
       ],
       "type": "table"
      }
     },
     "output_type": "display_data"
    }
   ],
   "source": [
    "# Creates column 'review_to_availability_ratio'\n",
    "# Checks how active a listing is in terms of reviews compared to its availability\n",
    "\n",
    "listings_df = listings_df.withColumn(\"review_to_availability_ratio\", \n",
    "                         when(col(\"availability_365\") > 0, col(\"number_of_reviews\") / col(\"availability_365\"))\n",
    "                         .otherwise(lit(0)))\n",
    "\n",
    "display(listings_df.limit(5))"
   ]
  },
  {
   "cell_type": "code",
   "execution_count": null,
   "metadata": {
    "application/vnd.databricks.v1+cell": {
     "cellMetadata": {
      "byteLimit": 2048000,
      "rowLimit": 10000
     },
     "inputWidgets": {},
     "nuid": "ff9dd7b6-9944-4550-9a4a-79ee879808d4",
     "showTitle": true,
     "title": "Aggregations"
    }
   },
   "outputs": [
    {
     "data": {
      "text/html": [
       "<style scoped>\n",
       "  .table-result-container {\n",
       "    max-height: 300px;\n",
       "    overflow: auto;\n",
       "  }\n",
       "  table, th, td {\n",
       "    border: 1px solid black;\n",
       "    border-collapse: collapse;\n",
       "  }\n",
       "  th, td {\n",
       "    padding: 5px;\n",
       "  }\n",
       "  th {\n",
       "    text-align: left;\n",
       "  }\n",
       "</style><div class='table-result-container'><table class='table-result'><thead style='background-color: white'><tr><th>neighbourhood</th><th>avg_price</th></tr></thead><tbody><tr><td>Wandsworth</td><td>152.4884775217227</td></tr><tr><td>Croydon</td><td>74.59482758620689</td></tr><tr><td>Bexley</td><td>81.65423728813559</td></tr><tr><td>Lambeth</td><td>125.04055896387185</td></tr><tr><td>Barking and Dagenham</td><td>90.17105263157895</td></tr><tr><td>Camden</td><td>183.12678331090174</td></tr><tr><td>Greenwich</td><td>110.46307558644656</td></tr><tr><td>Newham</td><td>150.960231980116</td></tr><tr><td>Tower Hamlets</td><td>122.1356251471627</td></tr><tr><td>Barnet</td><td>112.18778486782134</td></tr></tbody></table></div>"
      ]
     },
     "metadata": {
      "application/vnd.databricks.v1+output": {
       "addedWidgets": {},
       "aggData": [],
       "aggError": "",
       "aggOverflow": false,
       "aggSchema": [],
       "aggSeriesLimitReached": false,
       "aggType": "",
       "arguments": {},
       "columnCustomDisplayInfos": {},
       "data": [
        [
         "Wandsworth",
         152.4884775217227
        ],
        [
         "Croydon",
         74.59482758620689
        ],
        [
         "Bexley",
         81.65423728813559
        ],
        [
         "Lambeth",
         125.04055896387185
        ],
        [
         "Barking and Dagenham",
         90.17105263157895
        ],
        [
         "Camden",
         183.12678331090174
        ],
        [
         "Greenwich",
         110.46307558644656
        ],
        [
         "Newham",
         150.960231980116
        ],
        [
         "Tower Hamlets",
         122.1356251471627
        ],
        [
         "Barnet",
         112.18778486782134
        ]
       ],
       "datasetInfos": [],
       "dbfsResultPath": null,
       "isJsonSchema": true,
       "metadata": {},
       "overflow": false,
       "plotOptions": {
        "customPlotOptions": {},
        "displayType": "table",
        "pivotAggregation": null,
        "pivotColumns": null,
        "xColumns": null,
        "yColumns": null
       },
       "removedWidgets": [],
       "schema": [
        {
         "metadata": "{}",
         "name": "neighbourhood",
         "type": "\"string\""
        },
        {
         "metadata": "{}",
         "name": "avg_price",
         "type": "\"double\""
        }
       ],
       "type": "table"
      }
     },
     "output_type": "display_data"
    }
   ],
   "source": [
    "# Check average price in each neighbourhood\n",
    "\n",
    "avg_price_per_neighbourhood = listings_df \\\n",
    "            .groupby(\"neighbourhood\") \\\n",
    "            .agg({\"price\": \"avg\"}) \\\n",
    "            .withColumnRenamed(\"avg(price)\", \"avg_price\")\n",
    "\n",
    "display(avg_price_per_neighbourhood.limit(10))"
   ]
  },
  {
   "cell_type": "code",
   "execution_count": null,
   "metadata": {
    "application/vnd.databricks.v1+cell": {
     "cellMetadata": {
      "byteLimit": 2048000,
      "rowLimit": 10000
     },
     "inputWidgets": {},
     "nuid": "445cfaf8-e977-4199-82e9-98047d6b2471",
     "showTitle": false,
     "title": ""
    }
   },
   "outputs": [
    {
     "data": {
      "text/html": [
       "<style scoped>\n",
       "  .table-result-container {\n",
       "    max-height: 300px;\n",
       "    overflow: auto;\n",
       "  }\n",
       "  table, th, td {\n",
       "    border: 1px solid black;\n",
       "    border-collapse: collapse;\n",
       "  }\n",
       "  th, td {\n",
       "    padding: 5px;\n",
       "  }\n",
       "  th {\n",
       "    text-align: left;\n",
       "  }\n",
       "</style><div class='table-result-container'><table class='table-result'><thead style='background-color: white'><tr><th>room_type</th><th>avg_price</th></tr></thead><tbody><tr><td>Shared room</td><td>57.58921161825726</td></tr><tr><td>Hotel room</td><td>241.03333333333333</td></tr><tr><td>Entire home/apt</td><td>205.38230593249554</td></tr><tr><td>Private room</td><td>80.87393585428627</td></tr></tbody></table></div>"
      ]
     },
     "metadata": {
      "application/vnd.databricks.v1+output": {
       "addedWidgets": {},
       "aggData": [],
       "aggError": "",
       "aggOverflow": false,
       "aggSchema": [],
       "aggSeriesLimitReached": false,
       "aggType": "",
       "arguments": {},
       "columnCustomDisplayInfos": {},
       "data": [
        [
         "Shared room",
         57.58921161825726
        ],
        [
         "Hotel room",
         241.03333333333333
        ],
        [
         "Entire home/apt",
         205.38230593249554
        ],
        [
         "Private room",
         80.87393585428627
        ]
       ],
       "datasetInfos": [],
       "dbfsResultPath": null,
       "isJsonSchema": true,
       "metadata": {},
       "overflow": false,
       "plotOptions": {
        "customPlotOptions": {},
        "displayType": "table",
        "pivotAggregation": null,
        "pivotColumns": null,
        "xColumns": null,
        "yColumns": null
       },
       "removedWidgets": [],
       "schema": [
        {
         "metadata": "{}",
         "name": "room_type",
         "type": "\"string\""
        },
        {
         "metadata": "{}",
         "name": "avg_price",
         "type": "\"double\""
        }
       ],
       "type": "table"
      }
     },
     "output_type": "display_data"
    }
   ],
   "source": [
    "# Check average price for each type of room\n",
    "\n",
    "avg_price_roomtype = listings_df \\\n",
    "            .groupby(\"room_type\") \\\n",
    "            .agg({\"price\": \"avg\"}) \\\n",
    "            .withColumnRenamed(\"avg(price)\", \"avg_price\")\n",
    "\n",
    "display(avg_price_roomtype)"
   ]
  },
  {
   "cell_type": "code",
   "execution_count": null,
   "metadata": {
    "application/vnd.databricks.v1+cell": {
     "cellMetadata": {
      "byteLimit": 2048000,
      "rowLimit": 10000
     },
     "inputWidgets": {},
     "nuid": "0c102d68-6b2f-42e2-80b4-177385461cc4",
     "showTitle": false,
     "title": ""
    }
   },
   "outputs": [
    {
     "data": {
      "text/html": [
       "<style scoped>\n",
       "  .table-result-container {\n",
       "    max-height: 300px;\n",
       "    overflow: auto;\n",
       "  }\n",
       "  table, th, td {\n",
       "    border: 1px solid black;\n",
       "    border-collapse: collapse;\n",
       "  }\n",
       "  th, td {\n",
       "    padding: 5px;\n",
       "  }\n",
       "  th {\n",
       "    text-align: left;\n",
       "  }\n",
       "</style><div class='table-result-container'><table class='table-result'><thead style='background-color: white'><tr><th>id</th><th>name</th><th>host_id</th><th>host_name</th><th>neighbourhood</th><th>latitude</th><th>longitude</th><th>room_type</th><th>price</th><th>minimum_nights</th><th>number_of_reviews</th><th>last_review</th><th>reviews_per_month</th><th>calculated_host_listings_count</th><th>availability_365</th><th>number_of_reviews_ltm</th><th>price_range_bin</th><th>days_since_last_review</th><th>week_of_year</th><th>review_to_availability_ratio</th></tr></thead><tbody><tr><td>33472290</td><td>Budget single room near Stratford, East London</td><td>223188053</td><td>Bikash</td><td>Newham</td><td>51.55034</td><td>0.00932</td><td>Private room</td><td>23000.0</td><td>2</td><td>28</td><td>2022-08-24</td><td>2.33</td><td>2</td><td>18</td><td>28</td><td>Very High</td><td>713</td><td>34</td><td>1.5555555555555556</td></tr><tr><td>22877483</td><td>Stratford Saffron Apartment</td><td>148118580</td><td>Baronial Pads</td><td>Newham</td><td>51.54624</td><td>0.00689</td><td>Entire home/apt</td><td>20362.0</td><td>1</td><td>8</td><td>2022-03-20</td><td>0.17</td><td>1</td><td>90</td><td>3</td><td>Very High</td><td>870</td><td>11</td><td>0.08888888888888889</td></tr><tr><td>35511672</td><td>2 bed flat close to Stamford Hill,Stoke Newington</td><td>77446666</td><td>Karolina</td><td>Hackney</td><td>51.56686</td><td>-0.06476</td><td>Entire home/apt</td><td>10000.0</td><td>100</td><td>16</td><td>2020-02-09</td><td>0.41</td><td>5</td><td>0</td><td>0</td><td>Very High</td><td>1640</td><td>6</td><td>0.0</td></tr><tr><td>19370148</td><td>Modern 2BR Flat with Garden by Clapham Common/Battersea</td><td>135783855</td><td>Alison</td><td>Wandsworth</td><td>51.46275</td><td>-0.16304</td><td>Entire home/apt</td><td>10000.0</td><td>3</td><td>40</td><td>2020-03-17</td><td>0.67</td><td>1</td><td>365</td><td>0</td><td>Very High</td><td>1603</td><td>12</td><td>0.1095890410958904</td></tr><tr><td>44696103</td><td>Cheap Single Rooms in Carlton Hotel</td><td>89693959</td><td>Azimali</td><td>Westminster</td><td>51.49101</td><td>-0.13753</td><td>Private room</td><td>8591.0</td><td>1</td><td>43</td><td>2022-09-06</td><td>1.78</td><td>6</td><td>355</td><td>27</td><td>Very High</td><td>700</td><td>36</td><td>0.12112676056338029</td></tr><tr><td>9470827</td><td>Room in a cosy flat. Central, clean</td><td>5484135</td><td>David</td><td>Camden</td><td>51.55419</td><td>-0.1438</td><td>Private room</td><td>8000.0</td><td>2</td><td>8</td><td>2016-09-10</td><td>0.1</td><td>1</td><td>365</td><td>0</td><td>Very High</td><td>2887</td><td>36</td><td>0.021917808219178082</td></tr><tr><td>22965536</td><td>Period Victorian house with garden</td><td>45230234</td><td>Matthew</td><td>Haringey</td><td>51.57254</td><td>-0.10537</td><td>Private room</td><td>8000.0</td><td>1124</td><td>7</td><td>2019-08-28</td><td>0.12</td><td>1</td><td>0</td><td>0</td><td>Very High</td><td>1805</td><td>35</td><td>0.0</td></tr><tr><td>33864869</td><td>Chambre Double maison vegetarienne</td><td>43019905</td><td>Remy</td><td>Haringey</td><td>51.576</td><td>-0.10944</td><td>Private room</td><td>7852.0</td><td>1</td><td>1</td><td>2019-05-27</td><td>0.02</td><td>1</td><td>365</td><td>0</td><td>Very High</td><td>1898</td><td>22</td><td>0.0027397260273972603</td></tr><tr><td>36657089</td><td>Westminster Central Victorian Cosy Apartment</td><td>194367701</td><td>Daniel</td><td>Westminster</td><td>51.48606</td><td>-0.13853</td><td>Entire home/apt</td><td>7800.0</td><td>4</td><td>7</td><td>2019-09-07</td><td>0.18</td><td>4</td><td>0</td><td>0</td><td>Very High</td><td>1795</td><td>36</td><td>0.0</td></tr><tr><td>17713105</td><td>Huge Bright room Spacious Hampstead Penthouse Flat</td><td>11511561</td><td>Balbinder</td><td>Camden</td><td>51.54718</td><td>-0.1761</td><td>Private room</td><td>7551.0</td><td>90</td><td>1</td><td>2017-05-01</td><td>0.02</td><td>2</td><td>365</td><td>0</td><td>Very High</td><td>2654</td><td>18</td><td>0.0027397260273972603</td></tr></tbody></table></div>"
      ]
     },
     "metadata": {
      "application/vnd.databricks.v1+output": {
       "addedWidgets": {},
       "aggData": [],
       "aggError": "",
       "aggOverflow": false,
       "aggSchema": [],
       "aggSeriesLimitReached": false,
       "aggType": "",
       "arguments": {},
       "columnCustomDisplayInfos": {},
       "data": [
        [
         "33472290",
         "Budget single room near Stratford, East London",
         223188053,
         "Bikash",
         "Newham",
         51.55034,
         0.00932,
         "Private room",
         23000,
         2,
         28,
         "2022-08-24",
         2.33,
         2,
         18,
         28,
         "Very High",
         713,
         34,
         1.5555555555555556
        ],
        [
         "22877483",
         "Stratford Saffron Apartment",
         148118580,
         "Baronial Pads",
         "Newham",
         51.54624,
         0.00689,
         "Entire home/apt",
         20362,
         1,
         8,
         "2022-03-20",
         0.17,
         1,
         90,
         3,
         "Very High",
         870,
         11,
         0.08888888888888889
        ],
        [
         "35511672",
         "2 bed flat close to Stamford Hill,Stoke Newington",
         77446666,
         "Karolina",
         "Hackney",
         51.56686,
         -0.06476,
         "Entire home/apt",
         10000,
         100,
         16,
         "2020-02-09",
         0.41,
         5,
         0,
         0,
         "Very High",
         1640,
         6,
         0
        ],
        [
         "19370148",
         "Modern 2BR Flat with Garden by Clapham Common/Battersea",
         135783855,
         "Alison",
         "Wandsworth",
         51.46275,
         -0.16304,
         "Entire home/apt",
         10000,
         3,
         40,
         "2020-03-17",
         0.67,
         1,
         365,
         0,
         "Very High",
         1603,
         12,
         0.1095890410958904
        ],
        [
         "44696103",
         "Cheap Single Rooms in Carlton Hotel",
         89693959,
         "Azimali",
         "Westminster",
         51.49101,
         -0.13753,
         "Private room",
         8591,
         1,
         43,
         "2022-09-06",
         1.78,
         6,
         355,
         27,
         "Very High",
         700,
         36,
         0.12112676056338029
        ],
        [
         "9470827",
         "Room in a cosy flat. Central, clean",
         5484135,
         "David",
         "Camden",
         51.55419,
         -0.1438,
         "Private room",
         8000,
         2,
         8,
         "2016-09-10",
         0.1,
         1,
         365,
         0,
         "Very High",
         2887,
         36,
         0.021917808219178082
        ],
        [
         "22965536",
         "Period Victorian house with garden",
         45230234,
         "Matthew",
         "Haringey",
         51.57254,
         -0.10537,
         "Private room",
         8000,
         1124,
         7,
         "2019-08-28",
         0.12,
         1,
         0,
         0,
         "Very High",
         1805,
         35,
         0
        ],
        [
         "33864869",
         "Chambre Double maison vegetarienne",
         43019905,
         "Remy",
         "Haringey",
         51.576,
         -0.10944,
         "Private room",
         7852,
         1,
         1,
         "2019-05-27",
         0.02,
         1,
         365,
         0,
         "Very High",
         1898,
         22,
         0.0027397260273972603
        ],
        [
         "36657089",
         "Westminster Central Victorian Cosy Apartment",
         194367701,
         "Daniel",
         "Westminster",
         51.48606,
         -0.13853,
         "Entire home/apt",
         7800,
         4,
         7,
         "2019-09-07",
         0.18,
         4,
         0,
         0,
         "Very High",
         1795,
         36,
         0
        ],
        [
         "17713105",
         "Huge Bright room Spacious Hampstead Penthouse Flat",
         11511561,
         "Balbinder",
         "Camden",
         51.54718,
         -0.1761,
         "Private room",
         7551,
         90,
         1,
         "2017-05-01",
         0.02,
         2,
         365,
         0,
         "Very High",
         2654,
         18,
         0.0027397260273972603
        ]
       ],
       "datasetInfos": [],
       "dbfsResultPath": null,
       "isJsonSchema": true,
       "metadata": {},
       "overflow": false,
       "plotOptions": {
        "customPlotOptions": {},
        "displayType": "table",
        "pivotAggregation": null,
        "pivotColumns": null,
        "xColumns": null,
        "yColumns": null
       },
       "removedWidgets": [],
       "schema": [
        {
         "metadata": "{}",
         "name": "id",
         "type": "\"string\""
        },
        {
         "metadata": "{}",
         "name": "name",
         "type": "\"string\""
        },
        {
         "metadata": "{}",
         "name": "host_id",
         "type": "\"integer\""
        },
        {
         "metadata": "{}",
         "name": "host_name",
         "type": "\"string\""
        },
        {
         "metadata": "{}",
         "name": "neighbourhood",
         "type": "\"string\""
        },
        {
         "metadata": "{}",
         "name": "latitude",
         "type": "\"float\""
        },
        {
         "metadata": "{}",
         "name": "longitude",
         "type": "\"float\""
        },
        {
         "metadata": "{}",
         "name": "room_type",
         "type": "\"string\""
        },
        {
         "metadata": "{}",
         "name": "price",
         "type": "\"float\""
        },
        {
         "metadata": "{}",
         "name": "minimum_nights",
         "type": "\"integer\""
        },
        {
         "metadata": "{}",
         "name": "number_of_reviews",
         "type": "\"integer\""
        },
        {
         "metadata": "{}",
         "name": "last_review",
         "type": "\"date\""
        },
        {
         "metadata": "{}",
         "name": "reviews_per_month",
         "type": "\"float\""
        },
        {
         "metadata": "{}",
         "name": "calculated_host_listings_count",
         "type": "\"integer\""
        },
        {
         "metadata": "{}",
         "name": "availability_365",
         "type": "\"integer\""
        },
        {
         "metadata": "{}",
         "name": "number_of_reviews_ltm",
         "type": "\"integer\""
        },
        {
         "metadata": "{}",
         "name": "price_range_bin",
         "type": "\"string\""
        },
        {
         "metadata": "{}",
         "name": "days_since_last_review",
         "type": "\"integer\""
        },
        {
         "metadata": "{}",
         "name": "week_of_year",
         "type": "\"integer\""
        },
        {
         "metadata": "{}",
         "name": "review_to_availability_ratio",
         "type": "\"double\""
        }
       ],
       "type": "table"
      }
     },
     "output_type": "display_data"
    }
   ],
   "source": [
    "# What are the top 10 most expensive listing\n",
    "\n",
    "top_10_expensive_listing = listings_df \\\n",
    "            .orderBy(desc(\"price\")) \\\n",
    "            .limit(10)\n",
    "\n",
    "display(top_10_expensive_listing)"
   ]
  },
  {
   "cell_type": "code",
   "execution_count": null,
   "metadata": {
    "application/vnd.databricks.v1+cell": {
     "cellMetadata": {
      "byteLimit": 2048000,
      "rowLimit": 10000
     },
     "inputWidgets": {},
     "nuid": "9b6c0fe2-09d4-4d2d-b158-ba92eac8f442",
     "showTitle": false,
     "title": ""
    }
   },
   "outputs": [
    {
     "data": {
      "text/html": [
       "<style scoped>\n",
       "  .table-result-container {\n",
       "    max-height: 300px;\n",
       "    overflow: auto;\n",
       "  }\n",
       "  table, th, td {\n",
       "    border: 1px solid black;\n",
       "    border-collapse: collapse;\n",
       "  }\n",
       "  th, td {\n",
       "    padding: 5px;\n",
       "  }\n",
       "  th {\n",
       "    text-align: left;\n",
       "  }\n",
       "</style><div class='table-result-container'><table class='table-result'><thead style='background-color: white'><tr><th>host_id</th><th>host_name</th><th>average_price</th><th>number_of_listings</th><th>rank</th></tr></thead><tbody><tr><td>223188053</td><td>Bikash</td><td>23000.0</td><td>1</td><td>1</td></tr><tr><td>148118580</td><td>Baronial Pads</td><td>20362.0</td><td>1</td><td>2</td></tr><tr><td>135783855</td><td>Alison</td><td>10000.0</td><td>1</td><td>3</td></tr><tr><td>45230234</td><td>Matthew</td><td>8000.0</td><td>1</td><td>4</td></tr><tr><td>5484135</td><td>David</td><td>8000.0</td><td>1</td><td>5</td></tr></tbody></table></div>"
      ]
     },
     "metadata": {
      "application/vnd.databricks.v1+output": {
       "addedWidgets": {},
       "aggData": [],
       "aggError": "",
       "aggOverflow": false,
       "aggSchema": [],
       "aggSeriesLimitReached": false,
       "aggType": "",
       "arguments": {},
       "columnCustomDisplayInfos": {},
       "data": [
        [
         223188053,
         "Bikash",
         23000,
         1,
         1
        ],
        [
         148118580,
         "Baronial Pads",
         20362,
         1,
         2
        ],
        [
         135783855,
         "Alison",
         10000,
         1,
         3
        ],
        [
         45230234,
         "Matthew",
         8000,
         1,
         4
        ],
        [
         5484135,
         "David",
         8000,
         1,
         5
        ]
       ],
       "datasetInfos": [],
       "dbfsResultPath": null,
       "isJsonSchema": true,
       "metadata": {},
       "overflow": false,
       "plotOptions": {
        "customPlotOptions": {},
        "displayType": "table",
        "pivotAggregation": null,
        "pivotColumns": null,
        "xColumns": null,
        "yColumns": null
       },
       "removedWidgets": [],
       "schema": [
        {
         "metadata": "{}",
         "name": "host_id",
         "type": "\"integer\""
        },
        {
         "metadata": "{}",
         "name": "host_name",
         "type": "\"string\""
        },
        {
         "metadata": "{}",
         "name": "average_price",
         "type": "\"double\""
        },
        {
         "metadata": "{}",
         "name": "number_of_listings",
         "type": "\"long\""
        },
        {
         "metadata": "{}",
         "name": "rank",
         "type": "\"integer\""
        }
       ],
       "type": "table"
      }
     },
     "output_type": "display_data"
    }
   ],
   "source": [
    "# Top 5 hosts who have the highest average price for their listings and the highest number of listings they manage\n",
    "\n",
    "host_agg_df = listings_df.groupBy('host_id', 'host_name') \\\n",
    "    .agg(\n",
    "        avg('price').alias('average_price'),\n",
    "        count('id').alias('number_of_listings')\n",
    "    )\n",
    "\n",
    "# Define window specification to rank hosts by average price in descending order\n",
    "window = Window.orderBy(host_agg_df['average_price'].desc())\n",
    "\n",
    "# We'll use row number to rank hosts\n",
    "host_ranked_df = host_agg_df.withColumn('rank', row_number().over(window))\n",
    "\n",
    "# Get top 5 hosts\n",
    "top_5_hosts_df = host_ranked_df.filter(host_ranked_df['rank'] <= 5)\n",
    "\n",
    "display(top_5_hosts_df)"
   ]
  },
  {
   "cell_type": "code",
   "execution_count": null,
   "metadata": {
    "application/vnd.databricks.v1+cell": {
     "cellMetadata": {
      "byteLimit": 2048000,
      "rowLimit": 10000
     },
     "inputWidgets": {},
     "nuid": "2e7bb1ec-fa7f-4e3d-b757-967fe0884147",
     "showTitle": false,
     "title": ""
    }
   },
   "outputs": [
    {
     "data": {
      "text/html": [
       "<style scoped>\n",
       "  .table-result-container {\n",
       "    max-height: 300px;\n",
       "    overflow: auto;\n",
       "  }\n",
       "  table, th, td {\n",
       "    border: 1px solid black;\n",
       "    border-collapse: collapse;\n",
       "  }\n",
       "  th, td {\n",
       "    padding: 5px;\n",
       "  }\n",
       "  th {\n",
       "    text-align: left;\n",
       "  }\n",
       "</style><div class='table-result-container'><table class='table-result'><thead style='background-color: white'><tr><th>room_type</th><th>price_listings_correlation</th></tr></thead><tbody><tr><td>Shared room</td><td>-0.08314025616562573</td></tr><tr><td>Hotel room</td><td>0.1941185129896555</td></tr><tr><td>Entire home/apt</td><td>0.05923510613958202</td></tr><tr><td>Private room</td><td>0.038548986123491155</td></tr></tbody></table></div>"
      ]
     },
     "metadata": {
      "application/vnd.databricks.v1+output": {
       "addedWidgets": {},
       "aggData": [],
       "aggError": "",
       "aggOverflow": false,
       "aggSchema": [],
       "aggSeriesLimitReached": false,
       "aggType": "",
       "arguments": {},
       "columnCustomDisplayInfos": {},
       "data": [
        [
         "Shared room",
         -0.08314025616562573
        ],
        [
         "Hotel room",
         0.1941185129896555
        ],
        [
         "Entire home/apt",
         0.05923510613958202
        ],
        [
         "Private room",
         0.038548986123491155
        ]
       ],
       "datasetInfos": [],
       "dbfsResultPath": null,
       "isJsonSchema": true,
       "metadata": {},
       "overflow": false,
       "plotOptions": {
        "customPlotOptions": {},
        "displayType": "table",
        "pivotAggregation": null,
        "pivotColumns": null,
        "xColumns": null,
        "yColumns": null
       },
       "removedWidgets": [],
       "schema": [
        {
         "metadata": "{}",
         "name": "room_type",
         "type": "\"string\""
        },
        {
         "metadata": "{}",
         "name": "price_listings_correlation",
         "type": "\"double\""
        }
       ],
       "type": "table"
      }
     },
     "output_type": "display_data"
    }
   ],
   "source": [
    "# Check average price of host and room type, correlates with number of listings each host has for each room type\n",
    "\n",
    "# Calculate average price by host and room type\n",
    "price_summary_df = listings_df.groupBy('host_id', 'host_name', 'room_type') \\\n",
    "    .agg(\n",
    "        avg('price').alias('average_price')\n",
    "    )\n",
    "\n",
    "# Count number of listings by host and room type\n",
    "listing_count_df = listings_df.groupBy('host_id', 'host_name', 'room_type') \\\n",
    "    .agg(\n",
    "        count('id').alias('number_of_listings')\n",
    "    )\n",
    "\n",
    "# Join and do correlation\n",
    "joined_df = price_summary_df.join(listing_count_df, on=['host_id', 'host_name', 'room_type'])\n",
    "\n",
    "# # Compute correlation between average price and number of listings for each room type\n",
    "correlation_df = joined_df.groupBy('room_type').agg(\n",
    "    corr('average_price', 'number_of_listings').alias('price_listings_correlation')\n",
    ")\n",
    "\n",
    "display(correlation_df)"
   ]
  },
  {
   "cell_type": "code",
   "execution_count": null,
   "metadata": {
    "application/vnd.databricks.v1+cell": {
     "cellMetadata": {
      "byteLimit": 2048000,
      "rowLimit": 10000
     },
     "inputWidgets": {},
     "nuid": "18ceb44a-c10a-4545-a1f5-80778b68a9e6",
     "showTitle": true,
     "title": "Data Storage"
    }
   },
   "outputs": [
    {
     "name": "stdout",
     "output_type": "stream",
     "text": [
      "Data loaded to Snowflake successfully\n"
     ]
    }
   ],
   "source": [
    "# Write transformed dataframe back to Snowflake into different table\n",
    "\n",
    "options = {\n",
    "    \"sfURL\": \"**********************************************\",\n",
    "    \"sfUser\": \"****************\",\n",
    "    \"sfPassword\": \"****************\",\n",
    "    \"sfDatabase\": \"AirbnbData\",\n",
    "    \"sfSchema\": \"listings\",\n",
    "    \"sfRole\": \"ACCOUNTADMIN\"\n",
    "}\n",
    "\n",
    "try:\n",
    "    listings_df.write.format(\"snowflake\") \\\n",
    "        .options(**options) \\\n",
    "        .option(\"dbtable\", \"airbnb_listings_transformed\") \\\n",
    "        .mode(\"overwrite\") \\\n",
    "        .save()\n",
    "    \n",
    "    print(\"Data loaded to Snowflake successfully\")\n",
    "except Exception as e:\n",
    "    print(f\"Error loading data to Snowflake: {e}\")"
   ]
  },
  {
   "cell_type": "code",
   "execution_count": null,
   "metadata": {
    "application/vnd.databricks.v1+cell": {
     "cellMetadata": {},
     "inputWidgets": {},
     "nuid": "947dc30f-39cc-40c8-8107-1ed1de1425aa",
     "showTitle": false,
     "title": ""
    }
   },
   "outputs": [],
   "source": []
  }
 ],
 "metadata": {
  "application/vnd.databricks.v1+notebook": {
   "dashboards": [],
   "environmentMetadata": null,
   "language": "python",
   "notebookMetadata": {
    "pythonIndentUnit": 4
   },
   "notebookName": "transformations",
   "widgets": {}
  },
  "language_info": {
   "name": "python"
  }
 },
 "nbformat": 4,
 "nbformat_minor": 0
}
